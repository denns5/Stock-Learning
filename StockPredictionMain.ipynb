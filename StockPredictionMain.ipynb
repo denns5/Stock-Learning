{
  "cells": [
    {
      "metadata": {
        "trusted": true
      },
      "cell_type": "code",
      "source": "!pip install xgboost",
      "execution_count": 13,
      "outputs": [
        {
          "output_type": "stream",
          "text": "Collecting xgboost\n\u001b[?25l  Downloading https://files.pythonhosted.org/packages/8f/15/606f81a2b8a8e82eaa10683cb3f3074905ec65d3bcef949e3f0909f165a5/xgboost-0.80-py2.py3-none-manylinux1_x86_64.whl (15.8MB)\n\u001b[K    100% |████████████████████████████████| 15.8MB 32kB/s eta 0:00:01    90% |█████████████████████████████▏  | 14.4MB 2.7MB/s eta 0:00:01\n\u001b[?25hRequirement already satisfied: numpy in /home/nbuser/anaconda3_420/lib/python3.5/site-packages (from xgboost) (1.15.2)\nRequirement already satisfied: scipy in /home/nbuser/anaconda3_420/lib/python3.5/site-packages (from xgboost) (1.1.0)\nInstalling collected packages: xgboost\nSuccessfully installed xgboost-0.80\n\u001b[33mYou are using pip version 18.0, however version 18.1 is available.\nYou should consider upgrading via the 'pip install --upgrade pip' command.\u001b[0m\n",
          "name": "stdout"
        }
      ]
    },
    {
      "metadata": {
        "trusted": true
      },
      "cell_type": "code",
      "source": "import pandas as pd",
      "execution_count": 14,
      "outputs": []
    },
    {
      "metadata": {
        "trusted": true
      },
      "cell_type": "code",
      "source": "import numpy as np",
      "execution_count": 15,
      "outputs": []
    },
    {
      "metadata": {
        "trusted": true
      },
      "cell_type": "code",
      "source": "import xgboost as xgb",
      "execution_count": 16,
      "outputs": []
    },
    {
      "metadata": {
        "trusted": true
      },
      "cell_type": "code",
      "source": "import sklearn as sk",
      "execution_count": 17,
      "outputs": []
    },
    {
      "metadata": {
        "trusted": true
      },
      "cell_type": "code",
      "source": "data=pd.read_csv(r\"SPX.csv\", index_col=0)",
      "execution_count": 18,
      "outputs": []
    },
    {
      "metadata": {
        "trusted": true
      },
      "cell_type": "code",
      "source": "data[\"Close Return\"]=data[\"Close\"].pct_change()",
      "execution_count": 19,
      "outputs": []
    },
    {
      "metadata": {
        "trusted": true
      },
      "cell_type": "code",
      "source": "data[\"Close Return\"].plot()",
      "execution_count": 20,
      "outputs": [
        {
          "output_type": "stream",
          "text": "/home/nbuser/anaconda3_420/lib/python3.5/site-packages/matplotlib/font_manager.py:281: UserWarning: Matplotlib is building the font cache using fc-list. This may take a moment.\n  'Matplotlib is building the font cache using fc-list. '\n",
          "name": "stderr"
        },
        {
          "output_type": "execute_result",
          "execution_count": 20,
          "data": {
            "text/plain": "<matplotlib.axes._subplots.AxesSubplot at 0x7fde6658c940>"
          },
          "metadata": {}
        }
      ]
    },
    {
      "metadata": {
        "trusted": true
      },
      "cell_type": "code",
      "source": "data[\"Volume Velocity\"]=data[\"Volume\"].diff()",
      "execution_count": 21,
      "outputs": []
    },
    {
      "metadata": {
        "trusted": true
      },
      "cell_type": "code",
      "source": "data[\"Volume Acceleration\"]=data[\"Volume Velocity\"].diff()",
      "execution_count": 22,
      "outputs": []
    },
    {
      "metadata": {
        "trusted": true
      },
      "cell_type": "code",
      "source": "data[\"Volume Percentage\"]=data[\"Volume\"].pct_change()",
      "execution_count": 23,
      "outputs": []
    },
    {
      "metadata": {
        "trusted": true
      },
      "cell_type": "code",
      "source": "data[\"SMA\"]=data[\"Close\"].rolling(window=10).mean()",
      "execution_count": 24,
      "outputs": []
    },
    {
      "metadata": {
        "trusted": true
      },
      "cell_type": "code",
      "source": "data[\"EMA\"]=data[\"Close\"].ewm(span=30).mean()",
      "execution_count": 25,
      "outputs": []
    },
    {
      "metadata": {
        "trusted": true
      },
      "cell_type": "code",
      "source": "data.index=pd.to_datetime(data.index)",
      "execution_count": 26,
      "outputs": []
    },
    {
      "metadata": {
        "trusted": true
      },
      "cell_type": "code",
      "source": "data=data.dropna(how=\"any\")",
      "execution_count": 27,
      "outputs": []
    },
    {
      "metadata": {
        "trusted": true
      },
      "cell_type": "code",
      "source": "data[\"Label\"]=np.where(data[\"Close\"]>(data[\"Close\"].shift(-1)),0,1)",
      "execution_count": 28,
      "outputs": []
    },
    {
      "metadata": {
        "trusted": true
      },
      "cell_type": "code",
      "source": "data['Close'].plot()\ndata['SMA'].plot()\ndata['EMA'].plot()",
      "execution_count": 29,
      "outputs": [
        {
          "output_type": "execute_result",
          "execution_count": 29,
          "data": {
            "text/plain": "<matplotlib.axes._subplots.AxesSubplot at 0x7fde665260b8>"
          },
          "metadata": {}
        },
        {
          "output_type": "display_data",
          "data": {
            "image/png": "[encoded data removed]",
            "text/plain": "<matplotlib.figure.Figure at 0x7fde665b6780>"
          },
          "metadata": {}
        }
      ]
    },
    {
      "metadata": {
        "trusted": true
      },
      "cell_type": "code",
      "source": "train_data = data['1990-01-01':'2010-12-31'].copy()\ntest_data = data['2011-01-01':'2018-01-01'].copy()",
      "execution_count": 30,
      "outputs": []
    },
    {
      "metadata": {
        "trusted": true
      },
      "cell_type": "code",
      "source": "data.to_csv(\"SanityCheck\")",
      "execution_count": 31,
      "outputs": []
    },
    {
      "metadata": {
        "trusted": true
      },
      "cell_type": "code",
      "source": "from sklearn.utils import resample",
      "execution_count": 32,
      "outputs": []
    },
    {
      "metadata": {
        "trusted": true
      },
      "cell_type": "code",
      "source": "def rebalance(train_data):\n    data_minority=train_data[train_data[\"Label\"]==0]\n    data_majority = train_data[train_data[\"Label\"] == 1]\n    \n    n_samples=len(data_majority)\n    data_minority_upsampled = resample(data_minority, replace=True, n_samples=n_samples, random_state=5)\n    \n    data_upsampled = pd.concat([data_majority, data_minority_upsampled])\n    data_upsampled.sort_index(inplace=True)\n    \n    data_upsampled[\"Label\"].value_counts()\n    return data_upsampled\n",
      "execution_count": 33,
      "outputs": []
    },
    {
      "metadata": {
        "trusted": true
      },
      "cell_type": "code",
      "source": "train_data = rebalance(train_data)",
      "execution_count": 34,
      "outputs": []
    },
    {
      "metadata": {
        "trusted": true
      },
      "cell_type": "code",
      "source": "scaler=sk.preprocessing.MinMaxScaler()\nscaler.fit(train_data)",
      "execution_count": 35,
      "outputs": [
        {
          "output_type": "execute_result",
          "execution_count": 35,
          "data": {
            "text/plain": "MinMaxScaler(copy=True, feature_range=(0, 1))"
          },
          "metadata": {}
        }
      ]
    },
    {
      "metadata": {
        "trusted": true
      },
      "cell_type": "code",
      "source": "train_data.loc[:, train_data.columns] = scaler.transform(train_data)\ntest_data.loc[:,test_data.columns] = scaler.transform(test_data)",
      "execution_count": 36,
      "outputs": []
    },
    {
      "metadata": {
        "trusted": true
      },
      "cell_type": "code",
      "source": "X_train=train_data.drop(\"Label\",1)\ny_train=train_data[\"Label\"]\nX_test=test_data.drop(\"Label\",1)\ny_test=test_data[\"Label\"]",
      "execution_count": 37,
      "outputs": []
    },
    {
      "metadata": {
        "trusted": true
      },
      "cell_type": "code",
      "source": "from sklearn.metrics import accuracy_score",
      "execution_count": 38,
      "outputs": []
    },
    {
      "metadata": {
        "trusted": true
      },
      "cell_type": "code",
      "source": "from sklearn.neural_network import MLPClassifier",
      "execution_count": 39,
      "outputs": []
    },
    {
      "metadata": {
        "trusted": true
      },
      "cell_type": "code",
      "source": "mlp = MLPClassifier(hidden_layer_sizes=(30,30,30), activation='relu', alpha=1e-05, learning_rate_init=0.001,max_iter=500)\n# We fit the model here\nmlp.fit(X_train, y_train)\n# And make predictions here\npredictions = mlp.predict(X_test)\n# Computer Accuracy\naccuracytest = accuracy = (accuracy_score(y_test, predictions))\n# Print the accuracy\nprint(\"Accuracy on test set was {0}%.\".format(accuracytest*100))",
      "execution_count": 40,
      "outputs": [
        {
          "output_type": "stream",
          "text": "Accuracy on test set was 48.722316865417376%.\n",
          "name": "stdout"
        }
      ]
    },
    {
      "metadata": {
        "trusted": true,
        "scrolled": true
      },
      "cell_type": "code",
      "source": "from xgboost import XGBClassifier\n# Create the object model as a case of XGBClassifier with the default parameters\nmodel = XGBClassifier()\n# Fit the model here\nmodel.fit(X_train, y_train)\n# And make predictions here\ny_pred = model.predict(X_test)\npredictions = [round(value) for value in y_pred]\n# Computer Accuracy\naccuracytest = accuracy = (accuracy_score(y_test, predictions))\n# Print the accuracy\nprint(\"Accuracy on test set was {0}%.\".format(accuracytest*100))",
      "execution_count": 41,
      "outputs": [
        {
          "output_type": "stream",
          "text": "Accuracy on test set was 51.05053946621238%.\n",
          "name": "stdout"
        },
        {
          "output_type": "stream",
          "text": "/home/nbuser/anaconda3_420/lib/python3.5/site-packages/sklearn/preprocessing/label.py:151: DeprecationWarning: The truth value of an empty array is ambiguous. Returning False, but in future this will result in an error. Use `array.size > 0` to check that an array is not empty.\n  if diff:\n",
          "name": "stderr"
        }
      ]
    },
    {
      "metadata": {
        "trusted": true
      },
      "cell_type": "code",
      "source": "from sklearn.svm import LinearSVC\n# Create the object clf as a case of the LinearSVC with default parameters\nclf = LinearSVC(random_state=0, tol=1e-5)\n# Train the model here\nclf.fit(X_train, y_train)\n# And make predictions here\npredictions = clf.predict(X_test)\n# Computer Accuracy\naccuracytest = accuracy = (accuracy_score(y_test, predictions))\n# Print the accuracy\nprint(\"Accuracy on test set was {0}%.\".format(accuracytest*100))",
      "execution_count": 42,
      "outputs": [
        {
          "output_type": "stream",
          "text": "Accuracy on test set was 50.02839295854628%.\n",
          "name": "stdout"
        }
      ]
    },
    {
      "metadata": {
        "trusted": true
      },
      "cell_type": "code",
      "source": "",
      "execution_count": null,
      "outputs": []
    }
  ],
  "metadata": {
    "kernelspec": {
      "name": "python3",
      "display_name": "Python 3",
      "language": "python"
    },
    "language_info": {
      "mimetype": "text/x-python",
      "nbconvert_exporter": "python",
      "name": "python",
      "file_extension": ".py",
      "version": "3.5.4",
      "pygments_lexer": "ipython3",
      "codemirror_mode": {
        "version": 3,
        "name": "ipython"
      }
    }
  },
  "nbformat": 4,
  "nbformat_minor": 2
}